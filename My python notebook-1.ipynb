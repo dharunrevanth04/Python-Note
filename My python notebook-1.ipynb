{
 "cells": [
  {
   "cell_type": "code",
   "execution_count": 4,
   "id": "8ca3fb36-c47d-42ea-9fd7-50176c885bc9",
   "metadata": {},
   "outputs": [
    {
     "name": "stdout",
     "output_type": "stream",
     "text": [
      "True\n"
     ]
    }
   ],
   "source": [
    "x = \"this is a line\"\n",
    "print( \"is\" in x)"
   ]
  },
  {
   "cell_type": "code",
   "execution_count": 14,
   "id": "b632f040-a5d2-45cd-8cb4-ecc30c85342f",
   "metadata": {},
   "outputs": [
    {
     "name": "stdout",
     "output_type": "stream",
     "text": [
      "yes\n"
     ]
    }
   ],
   "source": [
    "x = \"banana\"\n",
    "if \"a\" in x  :\n",
    "    print(\"yes\")"
   ]
  },
  {
   "cell_type": "code",
   "execution_count": 18,
   "id": "9f982654-1730-4f1d-a07f-f9385660097a",
   "metadata": {},
   "outputs": [
    {
     "name": "stdout",
     "output_type": "stream",
     "text": [
      "yes it is there\n"
     ]
    }
   ],
   "source": [
    "x = \"this is second line\"\n",
    "if \"line\" in x:\n",
    "    print(\"yes it is there\")"
   ]
  },
  {
   "cell_type": "code",
   "execution_count": 20,
   "id": "0771982a-ae15-4bff-8fbc-42fb541b463c",
   "metadata": {},
   "outputs": [
    {
     "name": "stdout",
     "output_type": "stream",
     "text": [
      "True\n"
     ]
    }
   ],
   "source": [
    " x = \"this is third line\"\n",
    "print(\"third\" in x)"
   ]
  },
  {
   "cell_type": "code",
   "execution_count": 26,
   "id": "33d146c1-3b7e-47c4-b2f4-5a9eb876b110",
   "metadata": {},
   "outputs": [
    {
     "name": "stdout",
     "output_type": "stream",
     "text": [
      "True\n"
     ]
    }
   ],
   "source": [
    "x = \"this is fourth line\"\n",
    "print(\"one\" not in x)"
   ]
  },
  {
   "cell_type": "code",
   "execution_count": 28,
   "id": "9847b7db-1a1d-43d6-a8df-ee8e3597fd94",
   "metadata": {},
   "outputs": [
    {
     "name": "stdout",
     "output_type": "stream",
     "text": [
      "arunr\n"
     ]
    }
   ],
   "source": [
    "x = \" dharunrevanth\"\n",
    "print(x[3:8])"
   ]
  },
  {
   "cell_type": "code",
   "execution_count": 30,
   "id": "275c6c6e-68e8-47fd-b48c-aca9707e5b67",
   "metadata": {},
   "outputs": [
    {
     "name": "stdout",
     "output_type": "stream",
     "text": [
      "mages\n"
     ]
    }
   ],
   "source": [
    "x = \"umamageswari\"\n",
    "y = x[3:8]\n",
    "print(y)"
   ]
  },
  {
   "cell_type": "code",
   "execution_count": 32,
   "id": "f1a75724-4dc7-44b0-9dc2-db6b709a42f4",
   "metadata": {},
   "outputs": [
    {
     "name": "stdout",
     "output_type": "stream",
     "text": [
      "runrevanth\n"
     ]
    }
   ],
   "source": [
    "x = \"dharunrevanth\"\n",
    "print(x[3:])"
   ]
  },
  {
   "cell_type": "code",
   "execution_count": 34,
   "id": "8a20248e-3e17-4cb7-9a61-9d7cb77ebe4b",
   "metadata": {},
   "outputs": [
    {
     "name": "stdout",
     "output_type": "stream",
     "text": [
      "dharunre\n"
     ]
    }
   ],
   "source": [
    "x = \"dharunrevanth\"\n",
    "print(x[:8])"
   ]
  },
  {
   "cell_type": "code",
   "execution_count": 36,
   "id": "3bfd16a4-8606-44e7-8757-aca9f0a4ea4c",
   "metadata": {},
   "outputs": [
    {
     "name": "stdout",
     "output_type": "stream",
     "text": [
      "t\n"
     ]
    }
   ],
   "source": [
    "x = \"dharunrevanth\"\n",
    "print(x[-2:-1])"
   ]
  },
  {
   "cell_type": "code",
   "execution_count": 38,
   "id": "7d0b877d-18c4-47ff-a1e6-71044793f94d",
   "metadata": {},
   "outputs": [
    {
     "name": "stdout",
     "output_type": "stream",
     "text": [
      "revanth\n"
     ]
    }
   ],
   "source": [
    "x = \"dharunrevanth\"\n",
    "print(x[-7:])"
   ]
  },
  {
   "cell_type": "code",
   "execution_count": 40,
   "id": "6ef71df9-4657-4f26-82f5-a732e3812a4d",
   "metadata": {},
   "outputs": [
    {
     "name": "stdout",
     "output_type": "stream",
     "text": [
      "r\n"
     ]
    }
   ],
   "source": [
    "x = \"dharunrevanth\"\n",
    "print(x[-7:-6])"
   ]
  },
  {
   "cell_type": "code",
   "execution_count": 54,
   "id": "06b1fa21-c4d6-4e92-b203-576d640c7b21",
   "metadata": {},
   "outputs": [
    {
     "name": "stdout",
     "output_type": "stream",
     "text": [
      "DHARUN REVANTH \n",
      "dharun revanth \n",
      "Dharun revanth\n",
      "['Dharun', 'revanth']\n",
      "DhVrun revVnth \n"
     ]
    }
   ],
   "source": [
    "x = \"Dharun revanth \"\n",
    "print(x.upper())\n",
    "print(x.lower())\n",
    "print(x.strip())\n",
    "print(x.split())\n",
    "print(x.replace(\"a\",\"V\"))\n"
   ]
  },
  {
   "cell_type": "code",
   "execution_count": 62,
   "id": "7f553f06-5de7-46a5-ac8e-eb0b09b35f33",
   "metadata": {},
   "outputs": [
    {
     "name": "stdout",
     "output_type": "stream",
     "text": [
      "hi hi\n"
     ]
    }
   ],
   "source": [
    " a = \"hi\"\n",
    " b =  \" hi\"\n",
    "print(a+ b)\n"
   ]
  },
  {
   "cell_type": "code",
   "execution_count": 64,
   "id": "97dc307a-2838-429a-b827-3f0f03bbe114",
   "metadata": {},
   "outputs": [
    {
     "name": "stdout",
     "output_type": "stream",
     "text": [
      "I'm  dharun , I'm 19 years old\n"
     ]
    }
   ],
   "source": [
    " name = \" dharun\"\n",
    " age = 19\n",
    "print(f\"I'm {name} , I'm {age} years old\")"
   ]
  },
  {
   "cell_type": "code",
   "execution_count": 89,
   "id": "d34fea30-fec8-4ef9-9489-8669c875542c",
   "metadata": {},
   "outputs": [
    {
     "name": "stdout",
     "output_type": "stream",
     "text": [
      "I'm jose ,I have 45.457 rupees\n"
     ]
    }
   ],
   "source": [
    "name = \"jose\"\n",
    "amt = 45.4567\n",
    "print(f\"I'm {name} ,I have {amt:.3f} rupees\")"
   ]
  },
  {
   "cell_type": "code",
   "execution_count": 93,
   "id": "fec4002d-63e2-474d-8a3e-1bdb5d5d350d",
   "metadata": {},
   "outputs": [
    {
     "name": "stdout",
     "output_type": "stream",
     "text": [
      " my acc balance is 1200 rupees\n"
     ]
    }
   ],
   "source": [
    "print(f\" my acc balance is {30*40} rupees\")"
   ]
  },
  {
   "cell_type": "code",
   "execution_count": 99,
   "id": "6f49e322-9250-417a-85bf-f43f4f1855a6",
   "metadata": {},
   "outputs": [
    {
     "name": "stdout",
     "output_type": "stream",
     "text": [
      "there ruled a king \"Viking\"\n"
     ]
    }
   ],
   "source": [
    "print(\"there ruled a king \\\"Viking\\\"\")"
   ]
  },
  {
   "cell_type": "code",
   "execution_count": 103,
   "id": "26edbb4f-ed83-4026-996f-ce014435c571",
   "metadata": {},
   "outputs": [
    {
     "name": "stdout",
     "output_type": "stream",
     "text": [
      "this is a sentence\f",
      "and is the first sentence\n"
     ]
    }
   ],
   "source": [
    "x =( \"this is a sentence\\fand is the first sentence\")\n",
    "print(x)"
   ]
  },
  {
   "cell_type": "code",
   "execution_count": 163,
   "id": "ebd4803a-0b71-4ed6-9531-d1e210609c7d",
   "metadata": {},
   "outputs": [
    {
     "name": "stdout",
     "output_type": "stream",
     "text": [
      "dharun a revanth\n",
      "Dharun a revanth\n",
      "3\n",
      "b'Dharun a revanth'\n",
      "Dharun a revanth\n",
      "Dharun a revanth\n",
      "('', '', 'Dharun a revanth')\n",
      "-1\n",
      "-1\n"
     ]
    }
   ],
   "source": [
    "x = \"Dharun a revanth\"\n",
    "y = 33\n",
    "z ={\"fruits\":\"orange\" , \"rate\":\"twenty rupees\"}\n",
    "print(x.casefold())\n",
    "print(x.capitalize())\n",
    "print(x.count(\"a\"))\n",
    "print(x.encode())\n",
    "print(x.expandtabs())\n",
    "print(x.rstrip())\n",
    "print(x.rpartition(a))\n",
    "print(x.rfind(a))\n",
    "print(x.find(a))\n"
   ]
  },
  {
   "cell_type": "code",
   "execution_count": 18,
   "id": "50e95961-772a-478a-9d25-08426cd3a961",
   "metadata": {},
   "outputs": [
    {
     "name": "stdout",
     "output_type": "stream",
     "text": [
      "False\n"
     ]
    }
   ],
   "source": [
    "x = \"dharunrevanth\"\n",
    "y = x.isdigit()\n",
    "print(y)"
   ]
  },
  {
   "cell_type": "code",
   "execution_count": null,
   "id": "a861b6e4-fbf7-4f09-bb35-e671887b3f5f",
   "metadata": {},
   "outputs": [],
   "source": []
  }
 ],
 "metadata": {
  "kernelspec": {
   "display_name": "Python 3 (ipykernel)",
   "language": "python",
   "name": "python3"
  },
  "language_info": {
   "codemirror_mode": {
    "name": "ipython",
    "version": 3
   },
   "file_extension": ".py",
   "mimetype": "text/x-python",
   "name": "python",
   "nbconvert_exporter": "python",
   "pygments_lexer": "ipython3",
   "version": "3.12.4"
  }
 },
 "nbformat": 4,
 "nbformat_minor": 5
}
